{
 "cells": [
  {
   "cell_type": "code",
   "execution_count": 1,
   "id": "9c025719",
   "metadata": {},
   "outputs": [],
   "source": [
    "from nltk.tokenize import word_tokenize"
   ]
  },
  {
   "cell_type": "code",
   "execution_count": 2,
   "id": "b53f09d5",
   "metadata": {},
   "outputs": [],
   "source": [
    "sentence = \"hi, how are you doing?\""
   ]
  },
  {
   "cell_type": "code",
   "execution_count": 3,
   "id": "31ca6d62",
   "metadata": {},
   "outputs": [
    {
     "data": {
      "text/plain": [
       "['hi,', 'how', 'are', 'you', 'doing?']"
      ]
     },
     "execution_count": 3,
     "metadata": {},
     "output_type": "execute_result"
    }
   ],
   "source": [
    "sentence.split()"
   ]
  },
  {
   "cell_type": "code",
   "execution_count": 4,
   "id": "8d6f1e28",
   "metadata": {},
   "outputs": [
    {
     "data": {
      "text/plain": [
       "['hi', ',', 'how', 'are', 'you', 'doing', '?']"
      ]
     },
     "execution_count": 4,
     "metadata": {},
     "output_type": "execute_result"
    }
   ],
   "source": [
    "word_tokenize(sentence)"
   ]
  },
  {
   "cell_type": "code",
   "execution_count": 5,
   "id": "f1d46df9",
   "metadata": {},
   "outputs": [],
   "source": [
    "from sklearn.feature_extraction.text import CountVectorizer"
   ]
  },
  {
   "cell_type": "code",
   "execution_count": 6,
   "id": "d86a7c5e",
   "metadata": {},
   "outputs": [],
   "source": [
    "corpus = [\n",
    "    \"Hello!, How are you?\",\n",
    "    \"I am good, Just recovered from covid. I had really bad one.\",\n",
    "    \"im getting bored at home. And you? what do you think\",\n",
    "    \"did you know about counts?\",\n",
    "    \"YOOO!\"\n",
    "]"
   ]
  },
  {
   "cell_type": "code",
   "execution_count": 7,
   "id": "9b9f24ee",
   "metadata": {},
   "outputs": [
    {
     "name": "stdout",
     "output_type": "stream",
     "text": [
      "  (0, 3)\t1\n",
      "  (0, 15)\t1\n",
      "  (0, 17)\t1\n",
      "  (0, 27)\t1\n",
      "  (1, 1)\t1\n",
      "  (1, 5)\t1\n",
      "  (1, 8)\t1\n",
      "  (1, 11)\t1\n",
      "  (1, 13)\t1\n",
      "  (1, 14)\t1\n",
      "  (1, 19)\t1\n",
      "  (1, 21)\t1\n",
      "  (1, 22)\t1\n",
      "  (1, 23)\t1\n",
      "  (2, 2)\t1\n",
      "  (2, 4)\t1\n",
      "  (2, 6)\t1\n",
      "  (2, 10)\t1\n",
      "  (2, 12)\t1\n",
      "  (2, 16)\t1\n",
      "  (2, 18)\t1\n",
      "  (2, 24)\t1\n",
      "  (2, 25)\t1\n",
      "  (2, 27)\t2\n",
      "  (3, 0)\t1\n",
      "  (3, 7)\t1\n",
      "  (3, 9)\t1\n",
      "  (3, 20)\t1\n",
      "  (3, 27)\t1\n",
      "  (4, 26)\t1\n",
      "{'hello': 15, 'how': 17, 'are': 3, 'you': 27, 'am': 1, 'good': 13, 'just': 19, 'recovered': 23, 'from': 11, 'covid': 8, 'had': 14, 'really': 22, 'bad': 5, 'one': 21, 'im': 18, 'getting': 12, 'bored': 6, 'at': 4, 'home': 16, 'and': 2, 'what': 25, 'do': 10, 'think': 24, 'did': 9, 'know': 20, 'about': 0, 'counts': 7, 'yooo': 26}\n"
     ]
    }
   ],
   "source": [
    "#Count Vectorizer without nltk word_tokenize\n",
    "ctv = CountVectorizer()\n",
    "ctv.fit(corpus)\n",
    "transformed_corpus = ctv.transform(corpus)\n",
    "print(transformed_corpus)\n",
    "print(ctv.vocabulary_)"
   ]
  },
  {
   "cell_type": "code",
   "execution_count": 8,
   "id": "e9bfcfcc",
   "metadata": {},
   "outputs": [
    {
     "name": "stdout",
     "output_type": "stream",
     "text": [
      "  (0, 0)\t1\n",
      "  (0, 1)\t1\n",
      "  (0, 3)\t1\n",
      "  (0, 7)\t1\n",
      "  (0, 19)\t1\n",
      "  (0, 21)\t1\n",
      "  (0, 32)\t1\n",
      "  (1, 1)\t1\n",
      "  (1, 2)\t2\n",
      "  (1, 5)\t1\n",
      "  (1, 9)\t1\n",
      "  (1, 12)\t1\n",
      "  (1, 15)\t1\n",
      "  (1, 17)\t1\n",
      "  (1, 18)\t1\n",
      "  (1, 22)\t2\n",
      "  (1, 24)\t1\n",
      "  (1, 26)\t1\n",
      "  (1, 27)\t1\n",
      "  (1, 28)\t1\n",
      "  (2, 2)\t1\n",
      "  (2, 3)\t1\n",
      "  (2, 6)\t1\n",
      "  (2, 8)\t1\n",
      "  (2, 10)\t1\n",
      "  (2, 14)\t1\n",
      "  (2, 16)\t1\n",
      "  (2, 20)\t1\n",
      "  (2, 23)\t1\n",
      "  (2, 29)\t1\n",
      "  (2, 30)\t1\n",
      "  (2, 32)\t2\n",
      "  (3, 3)\t1\n",
      "  (3, 4)\t1\n",
      "  (3, 11)\t1\n",
      "  (3, 13)\t1\n",
      "  (3, 25)\t1\n",
      "  (3, 32)\t1\n",
      "  (4, 0)\t1\n",
      "  (4, 31)\t1\n",
      "{'hello': 19, '!': 0, ',': 1, 'how': 21, 'are': 7, 'you': 32, '?': 3, 'i': 22, 'am': 5, 'good': 17, 'just': 24, 'recovered': 28, 'from': 15, 'covid': 12, '.': 2, 'had': 18, 'really': 27, 'bad': 9, 'one': 26, 'im': 23, 'getting': 16, 'bored': 10, 'at': 8, 'home': 20, 'and': 6, 'what': 30, 'do': 14, 'think': 29, 'did': 13, 'know': 25, 'about': 4, 'counts': 11, 'yooo': 31}\n"
     ]
    }
   ],
   "source": [
    "#Count Vectorizer without nltk word_tokenize\n",
    "ctv = CountVectorizer(tokenizer=word_tokenize, token_pattern=None)\n",
    "ctv.fit(corpus)\n",
    "transformed_corpus = ctv.transform(corpus)\n",
    "print(transformed_corpus)\n",
    "print(ctv.vocabulary_)"
   ]
  },
  {
   "cell_type": "code",
   "execution_count": null,
   "id": "04fcb3c4",
   "metadata": {},
   "outputs": [],
   "source": []
  }
 ],
 "metadata": {
  "kernelspec": {
   "display_name": "Python 3 (ipykernel)",
   "language": "python",
   "name": "python3"
  },
  "language_info": {
   "codemirror_mode": {
    "name": "ipython",
    "version": 3
   },
   "file_extension": ".py",
   "mimetype": "text/x-python",
   "name": "python",
   "nbconvert_exporter": "python",
   "pygments_lexer": "ipython3",
   "version": "3.8.11"
  }
 },
 "nbformat": 4,
 "nbformat_minor": 5
}
