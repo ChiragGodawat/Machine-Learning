{
 "cells": [
  {
   "cell_type": "code",
   "execution_count": 1,
   "id": "678decc9",
   "metadata": {},
   "outputs": [],
   "source": [
    "import pandas as pd\n",
    "from sklearn.datasets import load_diabetes\n",
    "from sklearn.feature_selection import SelectFromModel\n",
    "from sklearn.ensemble import RandomForestRegressor"
   ]
  },
  {
   "cell_type": "code",
   "execution_count": 2,
   "id": "e53077b6",
   "metadata": {},
   "outputs": [],
   "source": [
    "data = load_diabetes()\n",
    "X = data['data']\n",
    "y = data['target']\n",
    "col_names = data['feature_names']"
   ]
  },
  {
   "cell_type": "code",
   "execution_count": 3,
   "id": "d2c30b2f",
   "metadata": {},
   "outputs": [],
   "source": [
    "model = RandomForestRegressor()"
   ]
  },
  {
   "cell_type": "code",
   "execution_count": 4,
   "id": "00b262af",
   "metadata": {},
   "outputs": [],
   "source": [
    "sfm = SelectFromModel(estimator=model)\n",
    "X_transform = sfm.fit_transform(X, y)"
   ]
  },
  {
   "cell_type": "code",
   "execution_count": 5,
   "id": "7fe8e871",
   "metadata": {},
   "outputs": [],
   "source": [
    "support = sfm.get_support()"
   ]
  },
  {
   "cell_type": "code",
   "execution_count": 6,
   "id": "afbd9011",
   "metadata": {},
   "outputs": [
    {
     "name": "stdout",
     "output_type": "stream",
     "text": [
      "['bmi', 's5']\n"
     ]
    }
   ],
   "source": [
    "print([x for x,y in zip(col_names, support) if y==True])"
   ]
  },
  {
   "cell_type": "code",
   "execution_count": null,
   "id": "0d700e90",
   "metadata": {},
   "outputs": [],
   "source": []
  }
 ],
 "metadata": {
  "kernelspec": {
   "display_name": "Python 3 (ipykernel)",
   "language": "python",
   "name": "python3"
  },
  "language_info": {
   "codemirror_mode": {
    "name": "ipython",
    "version": 3
   },
   "file_extension": ".py",
   "mimetype": "text/x-python",
   "name": "python",
   "nbconvert_exporter": "python",
   "pygments_lexer": "ipython3",
   "version": "3.8.11"
  }
 },
 "nbformat": 4,
 "nbformat_minor": 5
}
